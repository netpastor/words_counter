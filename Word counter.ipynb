{
 "cells": [
  {
   "cell_type": "code",
   "execution_count": 1,
   "metadata": {},
   "outputs": [],
   "source": [
    "import asyncio\n",
    "import glob\n",
    "import time\n",
    "from collections import defaultdict, Counter\n",
    "from concurrent.futures import ThreadPoolExecutor\n",
    "from pprint import pprint\n",
    "from typing import List\n",
    "\n",
    "import aiofiles"
   ]
  },
  {
   "cell_type": "code",
   "execution_count": 2,
   "metadata": {},
   "outputs": [],
   "source": [
    "txt_files = glob.glob(\"files/*.txt\")\n",
    "many_txt_files = glob.glob(\"many_files/*.txt\")\n",
    "stop_words = ['the', 'to', 'and', 'of', 'a', 'an', 'at', 'as', 'on', 'in', 'o']\n",
    "TOP_WORDS_COUNT = 20\n",
    "CASE_SENSITIVITY = True"
   ]
  },
  {
   "cell_type": "code",
   "execution_count": 3,
   "metadata": {},
   "outputs": [],
   "source": [
    "def clean_word(word: str) -> str:\n",
    "    \"\"\" Очищает слово от оставшихся символов \"\"\"\n",
    "    char_to_clean = '”—’“,.!?\"»«:;^()\\\\-…‘*?\\''\n",
    "    word = word.strip(char_to_clean)\n",
    "    return word if CASE_SENSITIVITY else word.lower()"
   ]
  },
  {
   "cell_type": "code",
   "execution_count": 4,
   "metadata": {},
   "outputs": [],
   "source": [
    "def filter_words(word:str) -> bool:\n",
    "    return word and word not in stop_words"
   ]
  },
  {
   "cell_type": "code",
   "execution_count": 5,
   "metadata": {},
   "outputs": [],
   "source": [
    "def get_words_from_file(file_name: str) -> List[str]:\n",
    "    return filter(filter_words, map(clean_word, open(file_name, 'r').read().split()))"
   ]
  },
  {
   "cell_type": "code",
   "execution_count": 6,
   "metadata": {},
   "outputs": [],
   "source": [
    "def counter_on_defaultdict(file_list: List[str]):\n",
    "    word_counts = defaultdict(int)\n",
    "    \n",
    "    words = [word for file_name in file_list for word in get_words_from_file(file_name)]\n",
    "    for word in words:\n",
    "        word_counts[word] += 1\n",
    "\n",
    "    sorted_dict = sorted(word_counts.items(), key=lambda item: item[1], reverse=True)\n",
    "\n",
    "    pprint(sorted_dict[:TOP_WORDS_COUNT])"
   ]
  },
  {
   "cell_type": "code",
   "execution_count": 7,
   "metadata": {},
   "outputs": [],
   "source": [
    "def counter_on_counter(file_list: List[str]):\n",
    "    words = [word for file_name in file_list for word in get_words_from_file(file_name)]\n",
    "    word_counts = Counter(words)\n",
    "    \n",
    "    pprint(word_counts.most_common(TOP_WORDS_COUNT))"
   ]
  },
  {
   "cell_type": "code",
   "execution_count": 8,
   "metadata": {},
   "outputs": [],
   "source": [
    "def counter_on_threads(file_list: List[str]):\n",
    "    word_counts = Counter()\n",
    "    with ThreadPoolExecutor() as executor:\n",
    "        results = executor.map(get_words_from_file, file_list)\n",
    "        for value in results: \n",
    "            word_counts += Counter(value)\n",
    "    pprint(word_counts.most_common(TOP_WORDS_COUNT))"
   ]
  },
  {
   "cell_type": "code",
   "execution_count": 9,
   "metadata": {},
   "outputs": [],
   "source": [
    "async def counter_on_aiofiles(file_list: List[str]): \n",
    "    words = []\n",
    "    for file_name in file_list:\n",
    "        async with aiofiles.open(file_name, mode='r') as f:\n",
    "            content = await f.read()\n",
    "            words += filter(filter_words, map(clean_word, content.split()))\n",
    "    word_counts = Counter(words)\n",
    "\n",
    "    pprint(word_counts.most_common(TOP_WORDS_COUNT))"
   ]
  },
  {
   "cell_type": "markdown",
   "metadata": {},
   "source": [
    "*Short file list*\n"
   ]
  },
  {
   "cell_type": "code",
   "execution_count": 10,
   "metadata": {},
   "outputs": [
    {
     "name": "stdout",
     "output_type": "stream",
     "text": [
      "[('Harry', 16636),\n",
      " ('was', 15506),\n",
      " ('he', 14748),\n",
      " ('said', 14430),\n",
      " ('his', 13720),\n",
      " ('it', 10590),\n",
      " ('I', 10102),\n",
      " ('you', 10049),\n",
      " ('had', 10048),\n",
      " ('that', 9475),\n",
      " ('him', 6932),\n",
      " ('with', 6358),\n",
      " ('Ron', 5770),\n",
      " ('He', 5452),\n",
      " ('for', 5367),\n",
      " ('her', 5295),\n",
      " ('Hermione', 4956),\n",
      " ('not', 4944),\n",
      " ('be', 4427),\n",
      " ('they', 4394)]\n",
      "CPU times: user 1.01 s, sys: 62 ms, total: 1.07 s\n",
      "Wall time: 1.13 s\n"
     ]
    }
   ],
   "source": [
    "%time counter_on_defaultdict(txt_files)"
   ]
  },
  {
   "cell_type": "code",
   "execution_count": 11,
   "metadata": {},
   "outputs": [
    {
     "name": "stdout",
     "output_type": "stream",
     "text": [
      "[('Harry', 16636),\n",
      " ('was', 15506),\n",
      " ('he', 14748),\n",
      " ('said', 14430),\n",
      " ('his', 13720),\n",
      " ('it', 10590),\n",
      " ('I', 10102),\n",
      " ('you', 10049),\n",
      " ('had', 10048),\n",
      " ('that', 9475),\n",
      " ('him', 6932),\n",
      " ('with', 6358),\n",
      " ('Ron', 5770),\n",
      " ('He', 5452),\n",
      " ('for', 5367),\n",
      " ('her', 5295),\n",
      " ('Hermione', 4956),\n",
      " ('not', 4944),\n",
      " ('be', 4427),\n",
      " ('they', 4394)]\n",
      "CPU times: user 929 ms, sys: 54.9 ms, total: 984 ms\n",
      "Wall time: 999 ms\n"
     ]
    }
   ],
   "source": [
    "%time counter_on_counter(txt_files)"
   ]
  },
  {
   "cell_type": "code",
   "execution_count": 12,
   "metadata": {},
   "outputs": [
    {
     "name": "stdout",
     "output_type": "stream",
     "text": [
      "[('Harry', 16636),\n",
      " ('was', 15506),\n",
      " ('he', 14748),\n",
      " ('said', 14430),\n",
      " ('his', 13720),\n",
      " ('it', 10590),\n",
      " ('I', 10102),\n",
      " ('you', 10049),\n",
      " ('had', 10048),\n",
      " ('that', 9475),\n",
      " ('him', 6932),\n",
      " ('with', 6358),\n",
      " ('Ron', 5770),\n",
      " ('He', 5452),\n",
      " ('for', 5367),\n",
      " ('her', 5295),\n",
      " ('Hermione', 4956),\n",
      " ('not', 4944),\n",
      " ('be', 4427),\n",
      " ('they', 4394)]\n",
      "CPU times: user 1.04 s, sys: 46.8 ms, total: 1.08 s\n",
      "Wall time: 1.09 s\n"
     ]
    }
   ],
   "source": [
    "%time counter_on_threads(txt_files)"
   ]
  },
  {
   "cell_type": "code",
   "execution_count": 13,
   "metadata": {
    "scrolled": true
   },
   "outputs": [
    {
     "name": "stdout",
     "output_type": "stream",
     "text": [
      "[('Harry', 16636),\n",
      " ('was', 15506),\n",
      " ('he', 14748),\n",
      " ('said', 14430),\n",
      " ('his', 13720),\n",
      " ('it', 10590),\n",
      " ('I', 10102),\n",
      " ('you', 10049),\n",
      " ('had', 10048),\n",
      " ('that', 9475),\n",
      " ('him', 6932),\n",
      " ('with', 6358),\n",
      " ('Ron', 5770),\n",
      " ('He', 5452),\n",
      " ('for', 5367),\n",
      " ('her', 5295),\n",
      " ('Hermione', 4956),\n",
      " ('not', 4944),\n",
      " ('be', 4427),\n",
      " ('they', 4394)]\n",
      "Execution time: 0:00:00.961915 s\n"
     ]
    }
   ],
   "source": [
    "from datetime import datetime\n",
    "start = datetime.now()\n",
    "await(counter_on_aiofiles(txt_files))\n",
    "print(f'Execution time: {datetime.now()-start} s')"
   ]
  },
  {
   "cell_type": "markdown",
   "metadata": {},
   "source": [
    "*Long file list*"
   ]
  },
  {
   "cell_type": "code",
   "execution_count": 14,
   "metadata": {},
   "outputs": [
    {
     "name": "stdout",
     "output_type": "stream",
     "text": [
      "[('Harry', 266176),\n",
      " ('was', 248096),\n",
      " ('he', 235968),\n",
      " ('said', 230880),\n",
      " ('his', 219520),\n",
      " ('it', 169440),\n",
      " ('I', 161632),\n",
      " ('you', 160784),\n",
      " ('had', 160768),\n",
      " ('that', 151600),\n",
      " ('him', 110912),\n",
      " ('with', 101728),\n",
      " ('Ron', 92320),\n",
      " ('He', 87232),\n",
      " ('for', 85872),\n",
      " ('her', 84720),\n",
      " ('Hermione', 79296),\n",
      " ('not', 79104),\n",
      " ('be', 70832),\n",
      " ('they', 70304)]\n",
      "CPU times: user 17.5 s, sys: 1.06 s, total: 18.5 s\n",
      "Wall time: 20 s\n"
     ]
    }
   ],
   "source": [
    "%time counter_on_defaultdict(many_txt_files)"
   ]
  },
  {
   "cell_type": "code",
   "execution_count": 15,
   "metadata": {},
   "outputs": [
    {
     "name": "stdout",
     "output_type": "stream",
     "text": [
      "[('Harry', 266176),\n",
      " ('was', 248096),\n",
      " ('he', 235968),\n",
      " ('said', 230880),\n",
      " ('his', 219520),\n",
      " ('it', 169440),\n",
      " ('I', 161632),\n",
      " ('you', 160784),\n",
      " ('had', 160768),\n",
      " ('that', 151600),\n",
      " ('him', 110912),\n",
      " ('with', 101728),\n",
      " ('Ron', 92320),\n",
      " ('He', 87232),\n",
      " ('for', 85872),\n",
      " ('her', 84720),\n",
      " ('Hermione', 79296),\n",
      " ('not', 79104),\n",
      " ('be', 70832),\n",
      " ('they', 70304)]\n",
      "CPU times: user 15.7 s, sys: 935 ms, total: 16.7 s\n",
      "Wall time: 17.8 s\n"
     ]
    }
   ],
   "source": [
    "%time counter_on_counter(many_txt_files)"
   ]
  },
  {
   "cell_type": "code",
   "execution_count": 16,
   "metadata": {},
   "outputs": [
    {
     "name": "stdout",
     "output_type": "stream",
     "text": [
      "[('Harry', 266176),\n",
      " ('was', 248096),\n",
      " ('he', 235968),\n",
      " ('said', 230880),\n",
      " ('his', 219520),\n",
      " ('it', 169440),\n",
      " ('I', 161632),\n",
      " ('you', 160784),\n",
      " ('had', 160768),\n",
      " ('that', 151600),\n",
      " ('him', 110912),\n",
      " ('with', 101728),\n",
      " ('Ron', 92320),\n",
      " ('He', 87232),\n",
      " ('for', 85872),\n",
      " ('her', 84720),\n",
      " ('Hermione', 79296),\n",
      " ('not', 79104),\n",
      " ('be', 70832),\n",
      " ('they', 70304)]\n",
      "CPU times: user 17.3 s, sys: 948 ms, total: 18.3 s\n",
      "Wall time: 19 s\n"
     ]
    }
   ],
   "source": [
    "%time counter_on_threads(many_txt_files)"
   ]
  },
  {
   "cell_type": "code",
   "execution_count": 17,
   "metadata": {},
   "outputs": [
    {
     "name": "stdout",
     "output_type": "stream",
     "text": [
      "[('Harry', 266176),\n",
      " ('was', 248096),\n",
      " ('he', 235968),\n",
      " ('said', 230880),\n",
      " ('his', 219520),\n",
      " ('it', 169440),\n",
      " ('I', 161632),\n",
      " ('you', 160784),\n",
      " ('had', 160768),\n",
      " ('that', 151600),\n",
      " ('him', 110912),\n",
      " ('with', 101728),\n",
      " ('Ron', 92320),\n",
      " ('He', 87232),\n",
      " ('for', 85872),\n",
      " ('her', 84720),\n",
      " ('Hermione', 79296),\n",
      " ('not', 79104),\n",
      " ('be', 70832),\n",
      " ('they', 70304)]\n",
      "Execution time: 0:00:16.045622 s\n"
     ]
    }
   ],
   "source": [
    "from datetime import datetime\n",
    "start = datetime.now()\n",
    "await(counter_on_aiofiles(many_txt_files))\n",
    "print(f'Execution time: {datetime.now()-start} s')"
   ]
  },
  {
   "cell_type": "code",
   "execution_count": null,
   "metadata": {},
   "outputs": [],
   "source": []
  }
 ],
 "metadata": {
  "kernelspec": {
   "display_name": "Python 3",
   "language": "python",
   "name": "python3"
  },
  "language_info": {
   "codemirror_mode": {
    "name": "ipython",
    "version": 3
   },
   "file_extension": ".py",
   "mimetype": "text/x-python",
   "name": "python",
   "nbconvert_exporter": "python",
   "pygments_lexer": "ipython3",
   "version": "3.8.2"
  }
 },
 "nbformat": 4,
 "nbformat_minor": 4
}
